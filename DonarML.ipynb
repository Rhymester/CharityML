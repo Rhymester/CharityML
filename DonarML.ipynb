{
 "cells": [
  {
   "cell_type": "code",
   "execution_count": null,
   "metadata": {},
   "outputs": [],
   "source": [
    "import numpy as np\n",
    "import pandas as pd\n",
    "from time import time\n",
    "#import visuals as vs\n",
    "from IPython.display import display\n",
    "import matplotlib.pyplot as plt\n",
    "import seaborn as sns\n",
    "np.random.seed(19680801)"
   ]
  },
  {
   "cell_type": "code",
   "execution_count": null,
   "metadata": {},
   "outputs": [],
   "source": [
    "%matplotlib inline\n",
    "df = pd.read_csv(\"/home/emiyakiritsuge/machinelearning/census.csv\")\n",
    "display(df.head(n=20))\n"
   ]
  },
  {
   "cell_type": "code",
   "execution_count": null,
   "metadata": {},
   "outputs": [],
   "source": [
    "tot_entries = len(df.index)\n",
    "\n",
    "income_greater_than_50k = len(df[df['income'] =='>50K'])\n",
    "#sex_val = df[\"sex\"].value_counts(dropna=False)\n",
    "\n",
    "income_at_most_50k =  tot_entries - income_greater_than_50k #len(df[df['income']=='<=50K'])\n",
    "\n",
    "percent_greater = 100 * (income_greater_than_50k / tot_entries)\n",
    "\n",
    "#print(tot_entries)\n",
    "print (\"Total number of records: {}\".format(tot_entries))\n",
    "print (\"Individuals making more than $50,000: {}\".format(income_greater_than_50k))\n",
    "print (\"Individuals making at most $50,000: {}\".format(income_at_most_50k))\n",
    "print (\"Percentage of individuals making more than $50,000: {:.3f}%\".format(percent_greater))\n",
    "#print(sex_val)"
   ]
  },
  {
   "cell_type": "code",
   "execution_count": null,
   "metadata": {},
   "outputs": [],
   "source": [
    "#pf =df.loc[df['income'] == '<=50K', 'sex']\n",
    "\n",
    "lst =[]\n",
    "\n",
    "lst = df[\"sex\"].value_counts(dropna=False)\n",
    "print(lst)\n"
   ]
  },
  {
   "cell_type": "code",
   "execution_count": null,
   "metadata": {},
   "outputs": [],
   "source": [
    "df.plot(kind='scatter',x='hours-per-week',y='income',color='blue')\n",
    "plt.show()"
   ]
  },
  {
   "cell_type": "code",
   "execution_count": null,
   "metadata": {},
   "outputs": [],
   "source": [
    "\n",
    "#df['native-country'].unique().tolist()\n",
    "df.plot(kind='bar',x='education_level',y='education-num')\n",
    "#plt.show()"
   ]
  },
  {
   "cell_type": "code",
   "execution_count": null,
   "metadata": {},
   "outputs": [],
   "source": []
  }
 ],
 "metadata": {
  "kernelspec": {
   "display_name": "Python 3",
   "language": "python",
   "name": "python3"
  },
  "language_info": {
   "codemirror_mode": {
    "name": "ipython",
    "version": 3
   },
   "file_extension": ".py",
   "mimetype": "text/x-python",
   "name": "python",
   "nbconvert_exporter": "python",
   "pygments_lexer": "ipython3",
   "version": "3.6.9"
  }
 },
 "nbformat": 4,
 "nbformat_minor": 4
}
